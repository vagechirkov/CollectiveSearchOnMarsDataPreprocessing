{
 "cells": [
  {
   "cell_type": "markdown",
   "source": [
    "Enable the `autoreload` extension, which will automatically reload the `playfab_manager` module when the source code is updated, using the following magic commands:"
   ],
   "metadata": {
    "collapsed": false
   }
  },
  {
   "cell_type": "code",
   "execution_count": 1,
   "outputs": [],
   "source": [
    "%load_ext autoreload\n",
    "%autoreload 2"
   ],
   "metadata": {
    "collapsed": false
   }
  },
  {
   "cell_type": "markdown",
   "source": [
    "Import the `PlayFabManager` class from the `playfab_manager` module and create a `PlayFabManager` instance"
   ],
   "metadata": {
    "collapsed": false
   }
  },
  {
   "cell_type": "code",
   "execution_count": 3,
   "metadata": {
    "collapsed": true
   },
   "outputs": [
    {
     "name": "stderr",
     "output_type": "stream",
     "text": [
      "Entity token is created\n"
     ]
    }
   ],
   "source": [
    "from playfab_manager.playfab_manager import PlayFabManager\n",
    "playfab = PlayFabManager()"
   ]
  },
  {
   "cell_type": "markdown",
   "source": [
    "Use the `get_all_players` method of the `PlayFabManager` instance to retrieve a list of all players from the PlayFab:"
   ],
   "metadata": {
    "collapsed": false
   }
  },
  {
   "cell_type": "code",
   "execution_count": 4,
   "outputs": [
    {
     "name": "stderr",
     "output_type": "stream",
     "text": [
      "Found 145 players\n"
     ]
    }
   ],
   "source": [
    "# NOTE: players are already sorted by last login time\n",
    "playfab.get_all_players()"
   ],
   "metadata": {
    "collapsed": false
   }
  },
  {
   "cell_type": "markdown",
   "source": [
    "## Get traces\n",
    "\n",
    "First, select recent players and get data for them"
   ],
   "metadata": {
    "collapsed": false
   }
  },
  {
   "cell_type": "code",
   "execution_count": 7,
   "outputs": [
    {
     "data": {
      "text/plain": "['2F3BA89351BC480A', '689DD7AEB301A55E', 'CF40933BA34EDB9']"
     },
     "execution_count": 7,
     "metadata": {},
     "output_type": "execute_result"
    }
   ],
   "source": [
    "# Import the datetime module\n",
    "import datetime\n",
    "\n",
    "# Get the current time\n",
    "current_time = datetime.datetime.now(datetime.timezone.utc)\n",
    "\n",
    "# select the players in the last 24 hours\n",
    "current_players = [p for p in playfab.all_players if current_time - p.LastLogin <= datetime.timedelta(hours=24)]\n",
    "\n",
    "# print the last three player ids\n",
    "[p.PlayerId for p in current_players[:3]]"
   ],
   "metadata": {
    "collapsed": false
   }
  },
  {
   "cell_type": "markdown",
   "source": [
    "Second, get files for each of the player"
   ],
   "metadata": {
    "collapsed": false
   }
  },
  {
   "cell_type": "code",
   "execution_count": 9,
   "outputs": [
    {
     "name": "stderr",
     "output_type": "stream",
     "text": [
      "Found 2 files for player 2F3BA89351BC480A\n",
      "Found 2 files for player 2F3BA89351BC480A\n",
      "Found 2 files for player 689DD7AEB301A55E\n",
      "Found 2 files for player 689DD7AEB301A55E\n",
      "Found 2 files for player CF40933BA34EDB9\n",
      "Found 2 files for player CF40933BA34EDB9\n"
     ]
    }
   ],
   "source": [
    "playfab.download_player_files([p.PlayerId for p in current_players[:3]])"
   ],
   "metadata": {
    "collapsed": false
   }
  },
  {
   "cell_type": "markdown",
   "source": [
    "Merged files are stored in `TracesPandas`"
   ],
   "metadata": {
    "collapsed": false
   }
  },
  {
   "cell_type": "code",
   "execution_count": 36,
   "outputs": [
    {
     "data": {
      "text/plain": "    timestamp  x    z  rotation  signaling\n0      207019  0 -125         0          0\n1      207119  0 -125         0          0\n2      207219  0 -125         0          0\n3      207319  0 -125         0          0\n4      207419  0 -125         0          0\n5      207519  0 -125         0          0\n6      207619  0 -125         0          0\n7      207719  0 -125         0          0\n8      207819  0 -125         0          0\n9      207919  0 -125         0          0\n10     208019  0 -125         0          0\n11     208119  0 -125         0          0\n12     208219  0 -125         0          0\n13     208319  0 -125         0          0\n14     208419  0 -125         0          0\n15     208519  0 -125         0          0\n16     208619  0 -125         0          0\n17     208719  0 -125         0          0\n18     208819  0 -125         0          0\n19     208919  0 -125         0          0\n20     209019  0 -125         0          0\n21     209119  0 -125         0          0\n22     209219  0 -125         0          0\n23     209319  0 -125         0          0\n24     209419  0 -125         0          0\n25     209519  0 -125         0          0\n26     209619  0 -125         0          0\n27     209719  0 -125         0          0\n28     209819  0 -125         0          0\n29     209919  0 -125         0          0\n30     210019  0 -125         0          0\n31     210119  0 -125         0          0\n32     210219  0 -125         0          0\n33     210319  0 -125         0          0\n34     210419  0 -125         0          0\n35     210519  0 -125         0          0\n36     210619  0 -125         0          0\n37     210719  0 -125         0          0\n38     210819  0 -125         0          0\n39     210919  0 -125         0          0\n40     211019  0 -125         0          0\n41     211119  0 -125         0          0\n42     211219  0 -125         0          0\n43     211319  0 -125         0          0\n44     211419  0 -125         0          0\n45     211519  0 -125         0          0\n46     211619  0 -125         0          0\n47     211719  0 -125         0          0\n48     211819  0 -125         0          0\n49     211919  0 -125         0          0",
      "text/html": "<div>\n<style scoped>\n    .dataframe tbody tr th:only-of-type {\n        vertical-align: middle;\n    }\n\n    .dataframe tbody tr th {\n        vertical-align: top;\n    }\n\n    .dataframe thead th {\n        text-align: right;\n    }\n</style>\n<table border=\"1\" class=\"dataframe\">\n  <thead>\n    <tr style=\"text-align: right;\">\n      <th></th>\n      <th>timestamp</th>\n      <th>x</th>\n      <th>z</th>\n      <th>rotation</th>\n      <th>signaling</th>\n    </tr>\n  </thead>\n  <tbody>\n    <tr>\n      <th>0</th>\n      <td>207019</td>\n      <td>0</td>\n      <td>-125</td>\n      <td>0</td>\n      <td>0</td>\n    </tr>\n    <tr>\n      <th>1</th>\n      <td>207119</td>\n      <td>0</td>\n      <td>-125</td>\n      <td>0</td>\n      <td>0</td>\n    </tr>\n    <tr>\n      <th>2</th>\n      <td>207219</td>\n      <td>0</td>\n      <td>-125</td>\n      <td>0</td>\n      <td>0</td>\n    </tr>\n    <tr>\n      <th>3</th>\n      <td>207319</td>\n      <td>0</td>\n      <td>-125</td>\n      <td>0</td>\n      <td>0</td>\n    </tr>\n    <tr>\n      <th>4</th>\n      <td>207419</td>\n      <td>0</td>\n      <td>-125</td>\n      <td>0</td>\n      <td>0</td>\n    </tr>\n    <tr>\n      <th>5</th>\n      <td>207519</td>\n      <td>0</td>\n      <td>-125</td>\n      <td>0</td>\n      <td>0</td>\n    </tr>\n    <tr>\n      <th>6</th>\n      <td>207619</td>\n      <td>0</td>\n      <td>-125</td>\n      <td>0</td>\n      <td>0</td>\n    </tr>\n    <tr>\n      <th>7</th>\n      <td>207719</td>\n      <td>0</td>\n      <td>-125</td>\n      <td>0</td>\n      <td>0</td>\n    </tr>\n    <tr>\n      <th>8</th>\n      <td>207819</td>\n      <td>0</td>\n      <td>-125</td>\n      <td>0</td>\n      <td>0</td>\n    </tr>\n    <tr>\n      <th>9</th>\n      <td>207919</td>\n      <td>0</td>\n      <td>-125</td>\n      <td>0</td>\n      <td>0</td>\n    </tr>\n    <tr>\n      <th>10</th>\n      <td>208019</td>\n      <td>0</td>\n      <td>-125</td>\n      <td>0</td>\n      <td>0</td>\n    </tr>\n    <tr>\n      <th>11</th>\n      <td>208119</td>\n      <td>0</td>\n      <td>-125</td>\n      <td>0</td>\n      <td>0</td>\n    </tr>\n    <tr>\n      <th>12</th>\n      <td>208219</td>\n      <td>0</td>\n      <td>-125</td>\n      <td>0</td>\n      <td>0</td>\n    </tr>\n    <tr>\n      <th>13</th>\n      <td>208319</td>\n      <td>0</td>\n      <td>-125</td>\n      <td>0</td>\n      <td>0</td>\n    </tr>\n    <tr>\n      <th>14</th>\n      <td>208419</td>\n      <td>0</td>\n      <td>-125</td>\n      <td>0</td>\n      <td>0</td>\n    </tr>\n    <tr>\n      <th>15</th>\n      <td>208519</td>\n      <td>0</td>\n      <td>-125</td>\n      <td>0</td>\n      <td>0</td>\n    </tr>\n    <tr>\n      <th>16</th>\n      <td>208619</td>\n      <td>0</td>\n      <td>-125</td>\n      <td>0</td>\n      <td>0</td>\n    </tr>\n    <tr>\n      <th>17</th>\n      <td>208719</td>\n      <td>0</td>\n      <td>-125</td>\n      <td>0</td>\n      <td>0</td>\n    </tr>\n    <tr>\n      <th>18</th>\n      <td>208819</td>\n      <td>0</td>\n      <td>-125</td>\n      <td>0</td>\n      <td>0</td>\n    </tr>\n    <tr>\n      <th>19</th>\n      <td>208919</td>\n      <td>0</td>\n      <td>-125</td>\n      <td>0</td>\n      <td>0</td>\n    </tr>\n    <tr>\n      <th>20</th>\n      <td>209019</td>\n      <td>0</td>\n      <td>-125</td>\n      <td>0</td>\n      <td>0</td>\n    </tr>\n    <tr>\n      <th>21</th>\n      <td>209119</td>\n      <td>0</td>\n      <td>-125</td>\n      <td>0</td>\n      <td>0</td>\n    </tr>\n    <tr>\n      <th>22</th>\n      <td>209219</td>\n      <td>0</td>\n      <td>-125</td>\n      <td>0</td>\n      <td>0</td>\n    </tr>\n    <tr>\n      <th>23</th>\n      <td>209319</td>\n      <td>0</td>\n      <td>-125</td>\n      <td>0</td>\n      <td>0</td>\n    </tr>\n    <tr>\n      <th>24</th>\n      <td>209419</td>\n      <td>0</td>\n      <td>-125</td>\n      <td>0</td>\n      <td>0</td>\n    </tr>\n    <tr>\n      <th>25</th>\n      <td>209519</td>\n      <td>0</td>\n      <td>-125</td>\n      <td>0</td>\n      <td>0</td>\n    </tr>\n    <tr>\n      <th>26</th>\n      <td>209619</td>\n      <td>0</td>\n      <td>-125</td>\n      <td>0</td>\n      <td>0</td>\n    </tr>\n    <tr>\n      <th>27</th>\n      <td>209719</td>\n      <td>0</td>\n      <td>-125</td>\n      <td>0</td>\n      <td>0</td>\n    </tr>\n    <tr>\n      <th>28</th>\n      <td>209819</td>\n      <td>0</td>\n      <td>-125</td>\n      <td>0</td>\n      <td>0</td>\n    </tr>\n    <tr>\n      <th>29</th>\n      <td>209919</td>\n      <td>0</td>\n      <td>-125</td>\n      <td>0</td>\n      <td>0</td>\n    </tr>\n    <tr>\n      <th>30</th>\n      <td>210019</td>\n      <td>0</td>\n      <td>-125</td>\n      <td>0</td>\n      <td>0</td>\n    </tr>\n    <tr>\n      <th>31</th>\n      <td>210119</td>\n      <td>0</td>\n      <td>-125</td>\n      <td>0</td>\n      <td>0</td>\n    </tr>\n    <tr>\n      <th>32</th>\n      <td>210219</td>\n      <td>0</td>\n      <td>-125</td>\n      <td>0</td>\n      <td>0</td>\n    </tr>\n    <tr>\n      <th>33</th>\n      <td>210319</td>\n      <td>0</td>\n      <td>-125</td>\n      <td>0</td>\n      <td>0</td>\n    </tr>\n    <tr>\n      <th>34</th>\n      <td>210419</td>\n      <td>0</td>\n      <td>-125</td>\n      <td>0</td>\n      <td>0</td>\n    </tr>\n    <tr>\n      <th>35</th>\n      <td>210519</td>\n      <td>0</td>\n      <td>-125</td>\n      <td>0</td>\n      <td>0</td>\n    </tr>\n    <tr>\n      <th>36</th>\n      <td>210619</td>\n      <td>0</td>\n      <td>-125</td>\n      <td>0</td>\n      <td>0</td>\n    </tr>\n    <tr>\n      <th>37</th>\n      <td>210719</td>\n      <td>0</td>\n      <td>-125</td>\n      <td>0</td>\n      <td>0</td>\n    </tr>\n    <tr>\n      <th>38</th>\n      <td>210819</td>\n      <td>0</td>\n      <td>-125</td>\n      <td>0</td>\n      <td>0</td>\n    </tr>\n    <tr>\n      <th>39</th>\n      <td>210919</td>\n      <td>0</td>\n      <td>-125</td>\n      <td>0</td>\n      <td>0</td>\n    </tr>\n    <tr>\n      <th>40</th>\n      <td>211019</td>\n      <td>0</td>\n      <td>-125</td>\n      <td>0</td>\n      <td>0</td>\n    </tr>\n    <tr>\n      <th>41</th>\n      <td>211119</td>\n      <td>0</td>\n      <td>-125</td>\n      <td>0</td>\n      <td>0</td>\n    </tr>\n    <tr>\n      <th>42</th>\n      <td>211219</td>\n      <td>0</td>\n      <td>-125</td>\n      <td>0</td>\n      <td>0</td>\n    </tr>\n    <tr>\n      <th>43</th>\n      <td>211319</td>\n      <td>0</td>\n      <td>-125</td>\n      <td>0</td>\n      <td>0</td>\n    </tr>\n    <tr>\n      <th>44</th>\n      <td>211419</td>\n      <td>0</td>\n      <td>-125</td>\n      <td>0</td>\n      <td>0</td>\n    </tr>\n    <tr>\n      <th>45</th>\n      <td>211519</td>\n      <td>0</td>\n      <td>-125</td>\n      <td>0</td>\n      <td>0</td>\n    </tr>\n    <tr>\n      <th>46</th>\n      <td>211619</td>\n      <td>0</td>\n      <td>-125</td>\n      <td>0</td>\n      <td>0</td>\n    </tr>\n    <tr>\n      <th>47</th>\n      <td>211719</td>\n      <td>0</td>\n      <td>-125</td>\n      <td>0</td>\n      <td>0</td>\n    </tr>\n    <tr>\n      <th>48</th>\n      <td>211819</td>\n      <td>0</td>\n      <td>-125</td>\n      <td>0</td>\n      <td>0</td>\n    </tr>\n    <tr>\n      <th>49</th>\n      <td>211919</td>\n      <td>0</td>\n      <td>-125</td>\n      <td>0</td>\n      <td>0</td>\n    </tr>\n  </tbody>\n</table>\n</div>"
     },
     "execution_count": 36,
     "metadata": {},
     "output_type": "execute_result"
    }
   ],
   "source": [
    "playfab.all_players[0].TracesPandas.head(50)"
   ],
   "metadata": {
    "collapsed": false
   }
  },
  {
   "cell_type": "code",
   "execution_count": 11,
   "outputs": [
    {
     "data": {
      "text/plain": "   timestamp    x  z  rotation  signaling\n0     219019  120  0         0          0\n1     219119  120  0         0          0\n2     219219  120  0         0          0\n3     219319  120  0         0          0\n4     219419  120  0         0          0",
      "text/html": "<div>\n<style scoped>\n    .dataframe tbody tr th:only-of-type {\n        vertical-align: middle;\n    }\n\n    .dataframe tbody tr th {\n        vertical-align: top;\n    }\n\n    .dataframe thead th {\n        text-align: right;\n    }\n</style>\n<table border=\"1\" class=\"dataframe\">\n  <thead>\n    <tr style=\"text-align: right;\">\n      <th></th>\n      <th>timestamp</th>\n      <th>x</th>\n      <th>z</th>\n      <th>rotation</th>\n      <th>signaling</th>\n    </tr>\n  </thead>\n  <tbody>\n    <tr>\n      <th>0</th>\n      <td>219019</td>\n      <td>120</td>\n      <td>0</td>\n      <td>0</td>\n      <td>0</td>\n    </tr>\n    <tr>\n      <th>1</th>\n      <td>219119</td>\n      <td>120</td>\n      <td>0</td>\n      <td>0</td>\n      <td>0</td>\n    </tr>\n    <tr>\n      <th>2</th>\n      <td>219219</td>\n      <td>120</td>\n      <td>0</td>\n      <td>0</td>\n      <td>0</td>\n    </tr>\n    <tr>\n      <th>3</th>\n      <td>219319</td>\n      <td>120</td>\n      <td>0</td>\n      <td>0</td>\n      <td>0</td>\n    </tr>\n    <tr>\n      <th>4</th>\n      <td>219419</td>\n      <td>120</td>\n      <td>0</td>\n      <td>0</td>\n      <td>0</td>\n    </tr>\n  </tbody>\n</table>\n</div>"
     },
     "execution_count": 11,
     "metadata": {},
     "output_type": "execute_result"
    }
   ],
   "source": [
    "playfab.all_players[1].TracesPandas.head()"
   ],
   "metadata": {
    "collapsed": false
   }
  },
  {
   "cell_type": "code",
   "execution_count": 12,
   "outputs": [
    {
     "data": {
      "text/plain": "   timestamp  x    z  rotation  signaling\n0     230019  0  120         0          0\n1     230119  0  120         0          0\n2     230219  0  120         0          0\n3     230319  0  120         0          0\n4     230419  0  120         0          0",
      "text/html": "<div>\n<style scoped>\n    .dataframe tbody tr th:only-of-type {\n        vertical-align: middle;\n    }\n\n    .dataframe tbody tr th {\n        vertical-align: top;\n    }\n\n    .dataframe thead th {\n        text-align: right;\n    }\n</style>\n<table border=\"1\" class=\"dataframe\">\n  <thead>\n    <tr style=\"text-align: right;\">\n      <th></th>\n      <th>timestamp</th>\n      <th>x</th>\n      <th>z</th>\n      <th>rotation</th>\n      <th>signaling</th>\n    </tr>\n  </thead>\n  <tbody>\n    <tr>\n      <th>0</th>\n      <td>230019</td>\n      <td>0</td>\n      <td>120</td>\n      <td>0</td>\n      <td>0</td>\n    </tr>\n    <tr>\n      <th>1</th>\n      <td>230119</td>\n      <td>0</td>\n      <td>120</td>\n      <td>0</td>\n      <td>0</td>\n    </tr>\n    <tr>\n      <th>2</th>\n      <td>230219</td>\n      <td>0</td>\n      <td>120</td>\n      <td>0</td>\n      <td>0</td>\n    </tr>\n    <tr>\n      <th>3</th>\n      <td>230319</td>\n      <td>0</td>\n      <td>120</td>\n      <td>0</td>\n      <td>0</td>\n    </tr>\n    <tr>\n      <th>4</th>\n      <td>230419</td>\n      <td>0</td>\n      <td>120</td>\n      <td>0</td>\n      <td>0</td>\n    </tr>\n  </tbody>\n</table>\n</div>"
     },
     "execution_count": 12,
     "metadata": {},
     "output_type": "execute_result"
    }
   ],
   "source": [
    "playfab.all_players[2].TracesPandas.head()"
   ],
   "metadata": {
    "collapsed": false
   }
  },
  {
   "cell_type": "code",
   "execution_count": 27,
   "outputs": [],
   "source": [
    "from visualization.animate_traces import animate_traces"
   ],
   "metadata": {
    "collapsed": false
   }
  },
  {
   "cell_type": "code",
   "execution_count": 30,
   "outputs": [],
   "source": [
    "traces = playfab.all_players[0].TracesPandas.loc[:,['x', 'z']].to_numpy()\n"
   ],
   "metadata": {
    "collapsed": false
   }
  },
  {
   "cell_type": "code",
   "execution_count": 38,
   "outputs": [],
   "source": [
    "animate_traces(traces.T, save=True, filename=f\"{playfab.all_players[0].PlayerId}_traces_animation.gif\")"
   ],
   "metadata": {
    "collapsed": false
   }
  },
  {
   "cell_type": "code",
   "execution_count": 37,
   "outputs": [],
   "source": [],
   "metadata": {
    "collapsed": false
   }
  },
  {
   "cell_type": "code",
   "execution_count": null,
   "outputs": [],
   "source": [],
   "metadata": {
    "collapsed": false
   }
  }
 ],
 "metadata": {
  "kernelspec": {
   "name": "myenv",
   "language": "python",
   "display_name": "PlayFab Python SDK"
  },
  "language_info": {
   "codemirror_mode": {
    "name": "ipython",
    "version": 2
   },
   "file_extension": ".py",
   "mimetype": "text/x-python",
   "name": "python",
   "nbconvert_exporter": "python",
   "pygments_lexer": "ipython2",
   "version": "2.7.6"
  }
 },
 "nbformat": 4,
 "nbformat_minor": 0
}
