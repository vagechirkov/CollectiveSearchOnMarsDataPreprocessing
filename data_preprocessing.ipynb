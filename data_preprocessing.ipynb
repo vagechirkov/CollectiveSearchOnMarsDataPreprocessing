{
 "cells": [
  {
   "cell_type": "markdown",
   "source": [
    "Enable the `autoreload` extension, which will automatically reload the `playfab_manager` module when the source code is updated, using the following magic commands:"
   ],
   "metadata": {
    "collapsed": false
   }
  },
  {
   "cell_type": "code",
   "execution_count": 1,
   "outputs": [],
   "source": [
    "%load_ext autoreload\n",
    "%autoreload 2"
   ],
   "metadata": {
    "collapsed": false
   }
  },
  {
   "cell_type": "markdown",
   "source": [
    "Import the `PlayFabManager` class from the `playfab_manager` module and create a `PlayFabManager` instance"
   ],
   "metadata": {
    "collapsed": false
   }
  },
  {
   "cell_type": "code",
   "execution_count": 2,
   "metadata": {
    "collapsed": true
   },
   "outputs": [
    {
     "name": "stderr",
     "output_type": "stream",
     "text": [
      "Entity token is created\n"
     ]
    }
   ],
   "source": [
    "from playfab_manager.playfab_manager import PlayFabManager\n",
    "playfab = PlayFabManager()"
   ]
  },
  {
   "cell_type": "markdown",
   "source": [
    "Use the `get_all_players` method of the `PlayFabManager` instance to retrieve a list of all players from the PlayFab:"
   ],
   "metadata": {
    "collapsed": false
   }
  },
  {
   "cell_type": "code",
   "execution_count": 3,
   "outputs": [
    {
     "name": "stderr",
     "output_type": "stream",
     "text": [
      "Found 145 players\n"
     ]
    }
   ],
   "source": [
    "playfab.get_all_players()"
   ],
   "metadata": {
    "collapsed": false
   }
  },
  {
   "cell_type": "markdown",
   "source": [
    "## Get traces\n",
    "\n",
    "First, select recent players and get data for them"
   ],
   "metadata": {
    "collapsed": false
   }
  },
  {
   "cell_type": "code",
   "execution_count": 4,
   "outputs": [],
   "source": [
    "# Import the datetime module\n",
    "import datetime\n",
    "\n",
    "# Get the current time\n",
    "current_time = datetime.datetime.now(datetime.timezone.utc)\n",
    "\n",
    "# select the players in the last 24 hours\n",
    "current_players = [p for p in playfab.all_players if current_time - p.LastLogin <= datetime.timedelta(hours=24)]\n",
    "\n",
    "# select the last 3 players\n",
    "current_players = playfab.all_players[-3:]"
   ],
   "metadata": {
    "collapsed": false
   }
  },
  {
   "cell_type": "code",
   "execution_count": 5,
   "outputs": [
    {
     "data": {
      "text/plain": "['A66E56AB7DFD5AD5', 'CFFCF5A7A63970A2', 'FB9E219D43F91219']"
     },
     "execution_count": 5,
     "metadata": {},
     "output_type": "execute_result"
    }
   ],
   "source": [
    "[p.PlayerId for p in current_players]"
   ],
   "metadata": {
    "collapsed": false
   }
  },
  {
   "cell_type": "markdown",
   "source": [
    "Second, get files for each of the player"
   ],
   "metadata": {
    "collapsed": false
   }
  },
  {
   "cell_type": "code",
   "execution_count": 14,
   "outputs": [
    {
     "name": "stderr",
     "output_type": "stream",
     "text": [
      "Found 4 files for player A9689AA7A4BFB8EB\n",
      "Found 4 files for player A9689AA7A4BFB8EB\n",
      "Found 4 files for player A9689AA7A4BFB8EB\n",
      "Found 4 files for player A9689AA7A4BFB8EB\n"
     ]
    }
   ],
   "source": [
    "playfab.download_player_files([current_players[0].PlayerId])"
   ],
   "metadata": {
    "collapsed": false
   }
  },
  {
   "cell_type": "code",
   "execution_count": null,
   "outputs": [],
   "source": [
    "playfab.all_players#%% md\n",
    "Enable the `autoreload` extension, which will automatically reload the `playfab_manager` module when the source code is updated, using the following magic commands:"
   ],
   "metadata": {
    "collapsed": false
   }
  },
  {
   "cell_type": "code",
   "execution_count": null,
   "outputs": [],
   "source": [
    "%load_ext autoreload\n",
    "%autoreload 2"
   ],
   "metadata": {
    "collapsed": false
   }
  },
  {
   "cell_type": "markdown",
   "source": [
    "Import the `PlayFabManager` class from the `playfab_manager` module and create a `PlayFabManager` instance"
   ],
   "metadata": {
    "collapsed": false
   }
  },
  {
   "cell_type": "code",
   "execution_count": null,
   "outputs": [],
   "source": [
    "from playfab_manager.playfab_manager import PlayFabManager\n",
    "playfab = PlayFabManager()"
   ],
   "metadata": {
    "collapsed": false
   }
  },
  {
   "cell_type": "markdown",
   "source": [
    "Use the `get_all_players` method of the `PlayFabManager` instance to retrieve a list of all players from the PlayFab:"
   ],
   "metadata": {
    "collapsed": false
   }
  },
  {
   "cell_type": "code",
   "execution_count": null,
   "outputs": [],
   "source": [
    "playfab.get_all_players()"
   ],
   "metadata": {
    "collapsed": false
   }
  },
  {
   "cell_type": "markdown",
   "source": [
    "## Get traces\n",
    "\n",
    "First, select recent players and get data for them"
   ],
   "metadata": {
    "collapsed": false
   }
  },
  {
   "cell_type": "code",
   "execution_count": null,
   "outputs": [],
   "source": [
    "# Import the datetime module\n",
    "import datetime\n",
    "\n",
    "# Get the current time\n",
    "current_time = datetime.datetime.now(datetime.timezone.utc)\n",
    "\n",
    "# select the players in the last 24 hours\n",
    "current_players = [p for p in playfab.all_players if current_time - p.LastLogin <= datetime.timedelta(hours=24)]\n",
    "\n",
    "# select the last 3 players\n",
    "current_players = playfab.all_players[-3:]"
   ],
   "metadata": {
    "collapsed": false
   }
  },
  {
   "cell_type": "code",
   "execution_count": null,
   "outputs": [],
   "source": [
    "[p.PlayerId for p in current_players]"
   ],
   "metadata": {
    "collapsed": false
   }
  },
  {
   "cell_type": "markdown",
   "source": [
    "Second, get files for each of the player"
   ],
   "metadata": {
    "collapsed": false
   }
  },
  {
   "cell_type": "code",
   "execution_count": null,
   "outputs": [],
   "source": [
    "playfab.download_player_files([current_players[0].PlayerId])"
   ],
   "metadata": {
    "collapsed": false
   }
  },
  {
   "cell_type": "code",
   "execution_count": null,
   "outputs": [],
   "source": [
    "playfab.all_players"
   ],
   "metadata": {
    "collapsed": false
   }
  },
  {
   "cell_type": "code",
   "execution_count": null,
   "outputs": [],
   "source": [],
   "metadata": {
    "collapsed": false
   }
  }
 ],
 "metadata": {
  "kernelspec": {
   "name": "myenv",
   "language": "python",
   "display_name": "PlayFab Python SDK"
  },
  "language_info": {
   "codemirror_mode": {
    "name": "ipython",
    "version": 2
   },
   "file_extension": ".py",
   "mimetype": "text/x-python",
   "name": "python",
   "nbconvert_exporter": "python",
   "pygments_lexer": "ipython2",
   "version": "2.7.6"
  }
 },
 "nbformat": 4,
 "nbformat_minor": 0
}
