{
 "cells": [
  {
   "cell_type": "markdown",
   "source": [
    "Enable the `autoreload` extension, which will automatically reload the `playfab_manager` module when the source code is updated, using the following magic commands:"
   ],
   "metadata": {
    "collapsed": false
   }
  },
  {
   "cell_type": "code",
   "execution_count": 1,
   "outputs": [],
   "source": [
    "%load_ext autoreload\n",
    "%autoreload 2"
   ],
   "metadata": {
    "collapsed": false
   }
  },
  {
   "cell_type": "markdown",
   "source": [
    "Import the `PlayFabManager` class from the `playfab_manager` module and create a `PlayFabManager` instance"
   ],
   "metadata": {
    "collapsed": false
   }
  },
  {
   "cell_type": "code",
   "execution_count": 3,
   "metadata": {
    "collapsed": true
   },
   "outputs": [
    {
     "name": "stderr",
     "output_type": "stream",
     "text": [
      "Entity token is created\n"
     ]
    }
   ],
   "source": [
    "from playfab_manager.playfab_manager import PlayFabManager\n",
    "playfab = PlayFabManager()"
   ]
  },
  {
   "cell_type": "markdown",
   "source": [
    "Use the `get_all_players` method of the `PlayFabManager` instance to retrieve a list of all players from the PlayFab:"
   ],
   "metadata": {
    "collapsed": false
   }
  },
  {
   "cell_type": "code",
   "execution_count": 4,
   "outputs": [
    {
     "name": "stderr",
     "output_type": "stream",
     "text": [
      "Found 145 players\n"
     ]
    }
   ],
   "source": [
    "# NOTE: players are already sorted by last login time\n",
    "playfab.get_all_players()"
   ],
   "metadata": {
    "collapsed": false
   }
  },
  {
   "cell_type": "markdown",
   "source": [
    "## Get traces\n",
    "\n",
    "First, select recent players and get data for them"
   ],
   "metadata": {
    "collapsed": false
   }
  },
  {
   "cell_type": "code",
   "execution_count": 7,
   "outputs": [
    {
     "data": {
      "text/plain": "['2F3BA89351BC480A', '689DD7AEB301A55E', 'CF40933BA34EDB9']"
     },
     "execution_count": 7,
     "metadata": {},
     "output_type": "execute_result"
    }
   ],
   "source": [
    "# Import the datetime module\n",
    "import datetime\n",
    "\n",
    "# Get the current time\n",
    "current_time = datetime.datetime.now(datetime.timezone.utc)\n",
    "\n",
    "# select the players in the last 24 hours\n",
    "current_players = [p for p in playfab.all_players if current_time - p.LastLogin <= datetime.timedelta(hours=24)]\n",
    "\n",
    "# print the last three player ids\n",
    "[p.PlayerId for p in current_players[:3]]"
   ],
   "metadata": {
    "collapsed": false
   }
  },
  {
   "cell_type": "markdown",
   "source": [
    "Second, get files for each of the player"
   ],
   "metadata": {
    "collapsed": false
   }
  },
  {
   "cell_type": "code",
   "execution_count": 9,
   "outputs": [
    {
     "name": "stderr",
     "output_type": "stream",
     "text": [
      "Found 2 files for player 2F3BA89351BC480A\n",
      "Found 2 files for player 2F3BA89351BC480A\n",
      "Found 2 files for player 689DD7AEB301A55E\n",
      "Found 2 files for player 689DD7AEB301A55E\n",
      "Found 2 files for player CF40933BA34EDB9\n",
      "Found 2 files for player CF40933BA34EDB9\n"
     ]
    }
   ],
   "source": [
    "playfab.download_player_files([p.PlayerId for p in current_players[:3]])"
   ],
   "metadata": {
    "collapsed": false
   }
  },
  {
   "cell_type": "markdown",
   "source": [
    "Merged files are stored in `Traces`"
   ],
   "metadata": {
    "collapsed": false
   }
  },
  {
   "cell_type": "code",
   "execution_count": 10,
   "outputs": [
    {
     "data": {
      "text/plain": "   timestamp  x    z  rotation  signaling\n0     207019  0 -125         0          0\n1     207119  0 -125         0          0\n2     207219  0 -125         0          0\n3     207319  0 -125         0          0\n4     207419  0 -125         0          0",
      "text/html": "<div>\n<style scoped>\n    .dataframe tbody tr th:only-of-type {\n        vertical-align: middle;\n    }\n\n    .dataframe tbody tr th {\n        vertical-align: top;\n    }\n\n    .dataframe thead th {\n        text-align: right;\n    }\n</style>\n<table border=\"1\" class=\"dataframe\">\n  <thead>\n    <tr style=\"text-align: right;\">\n      <th></th>\n      <th>timestamp</th>\n      <th>x</th>\n      <th>z</th>\n      <th>rotation</th>\n      <th>signaling</th>\n    </tr>\n  </thead>\n  <tbody>\n    <tr>\n      <th>0</th>\n      <td>207019</td>\n      <td>0</td>\n      <td>-125</td>\n      <td>0</td>\n      <td>0</td>\n    </tr>\n    <tr>\n      <th>1</th>\n      <td>207119</td>\n      <td>0</td>\n      <td>-125</td>\n      <td>0</td>\n      <td>0</td>\n    </tr>\n    <tr>\n      <th>2</th>\n      <td>207219</td>\n      <td>0</td>\n      <td>-125</td>\n      <td>0</td>\n      <td>0</td>\n    </tr>\n    <tr>\n      <th>3</th>\n      <td>207319</td>\n      <td>0</td>\n      <td>-125</td>\n      <td>0</td>\n      <td>0</td>\n    </tr>\n    <tr>\n      <th>4</th>\n      <td>207419</td>\n      <td>0</td>\n      <td>-125</td>\n      <td>0</td>\n      <td>0</td>\n    </tr>\n  </tbody>\n</table>\n</div>"
     },
     "execution_count": 10,
     "metadata": {},
     "output_type": "execute_result"
    }
   ],
   "source": [
    "playfab.all_players[0].TracesPandas.head()"
   ],
   "metadata": {
    "collapsed": false
   }
  },
  {
   "cell_type": "code",
   "execution_count": 10,
   "outputs": [],
   "source": [],
   "metadata": {
    "collapsed": false
   }
  },
  {
   "cell_type": "code",
   "execution_count": null,
   "outputs": [],
   "source": [],
   "metadata": {
    "collapsed": false
   }
  }
 ],
 "metadata": {
  "kernelspec": {
   "name": "myenv",
   "language": "python",
   "display_name": "PlayFab Python SDK"
  },
  "language_info": {
   "codemirror_mode": {
    "name": "ipython",
    "version": 2
   },
   "file_extension": ".py",
   "mimetype": "text/x-python",
   "name": "python",
   "nbconvert_exporter": "python",
   "pygments_lexer": "ipython2",
   "version": "2.7.6"
  }
 },
 "nbformat": 4,
 "nbformat_minor": 0
}
